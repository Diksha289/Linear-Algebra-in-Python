{
 "cells": [
  {
   "cell_type": "markdown",
   "id": "d6abaa65",
   "metadata": {},
   "source": [
    "\n",
    "\n",
    "Linear Algebra Practicals\n",
    "\n",
    "1.Solving the system of linear equations using Cramer’s rule."
   ]
  },
  {
   "cell_type": "code",
   "execution_count": 2,
   "id": "d62e9096",
   "metadata": {},
   "outputs": [
    {
     "data": {
      "text/plain": [
       "array([[11, 16, 10,  6],\n",
       "       [ 4,  3,  2,  2],\n",
       "       [ 4,  5,  3,  2],\n",
       "       [ 2,  3,  2,  1]])"
      ]
     },
     "execution_count": 2,
     "metadata": {},
     "output_type": "execute_result"
    }
   ],
   "source": [
    "import numpy as np\n",
    "A=np.array([[11,16,10,6],[4,3,2,2],[4,5,3,2],[2,3,2,1]])\n",
    "A"
   ]
  },
  {
   "cell_type": "code",
   "execution_count": 3,
   "id": "cbffa5ea",
   "metadata": {},
   "outputs": [
    {
     "data": {
      "text/plain": [
       "array([-0.,  2.,  4.,  2.])"
      ]
     },
     "execution_count": 3,
     "metadata": {},
     "output_type": "execute_result"
    }
   ],
   "source": [
    "B=np.array([84,18,26,16])\n",
    "row,col=A.shape\n",
    "x=[0]*col\n",
    "for i in range(col):\n",
    "    temp=A.copy()\n",
    "    temp[:,i]=B\n",
    "    x[i]=np.linalg.det(temp)/np.linalg.det(A)\n",
    "np.round(x)"
   ]
  },
  {
   "cell_type": "code",
   "execution_count": 4,
   "id": "a9a6faf0",
   "metadata": {},
   "outputs": [
    {
     "data": {
      "text/plain": [
       "array([-0.,  2.,  4.,  2.])"
      ]
     },
     "execution_count": 4,
     "metadata": {},
     "output_type": "execute_result"
    }
   ],
   "source": [
    "x=np.linalg.solve(A,B)\n",
    "np.round(x)"
   ]
  },
  {
   "cell_type": "markdown",
   "id": "0e0b6f7d",
   "metadata": {},
   "source": [
    "2..Pseudo Inverse of Matrix"
   ]
  },
  {
   "cell_type": "code",
   "execution_count": 5,
   "id": "223d4cd1",
   "metadata": {},
   "outputs": [
    {
     "data": {
      "text/plain": [
       "array([[-0.04014096,  0.05331913,  0.03135552],\n",
       "       [ 0.3       , -0.1       , -0.1       ],\n",
       "       [ 0.01186691, -0.03291264,  0.00216358],\n",
       "       [ 0.09214883, -0.13955089, -0.06054745],\n",
       "       [ 0.00578594,  0.02538928, -0.02656941]])"
      ]
     },
     "execution_count": 5,
     "metadata": {},
     "output_type": "execute_result"
    }
   ],
   "source": [
    "A=np.array([[3,5,2,-4,-6],[1,2,-4,-6,7],[8,3,10,-6,-25]])\n",
    "A\n",
    "b=np.array([34,-45,129])\n",
    "b\n",
    "B=np.linalg.pinv(A)\n",
    "B"
   ]
  },
  {
   "cell_type": "code",
   "execution_count": 6,
   "id": "1a6948e2",
   "metadata": {},
   "outputs": [
    {
     "data": {
      "text/plain": [
       "True"
      ]
     },
     "execution_count": 6,
     "metadata": {},
     "output_type": "execute_result"
    }
   ],
   "source": [
    "np.allclose(A, np.dot(A, np.dot(B, A)))\n",
    "np.allclose(B, np.dot(B, np.dot(A, B)))"
   ]
  },
  {
   "cell_type": "markdown",
   "id": "b55e3dfc",
   "metadata": {},
   "source": [
    "3.Checking various properties of the given matrix.\n",
    "\n",
    "    Square Matrix"
   ]
  },
  {
   "cell_type": "code",
   "execution_count": 9,
   "id": "0c7367b3",
   "metadata": {},
   "outputs": [
    {
     "name": "stdout",
     "output_type": "stream",
     "text": [
      "Matrix is square\n"
     ]
    }
   ],
   "source": [
    "A=np.array([[11,16,10,6],[4,3,2,2],[4,5,3,2],[2,3,2,1]])\n",
    "m,n=A.shape\n",
    "if m==n:\n",
    "    print('Matrix is square')\n",
    "else:\n",
    "    print('Matrix is not square')     "
   ]
  },
  {
   "cell_type": "markdown",
   "id": "8303a3c9",
   "metadata": {},
   "source": [
    "\n",
    "\n",
    "    Idempotent Matrix\n",
    "\n"
   ]
  },
  {
   "cell_type": "code",
   "execution_count": 10,
   "id": "69f5911b",
   "metadata": {},
   "outputs": [
    {
     "name": "stdout",
     "output_type": "stream",
     "text": [
      "Matrix is not idempotent\n"
     ]
    }
   ],
   "source": [
    "A2=np.linalg.matrix_power(A,2)\n",
    "if (A==A2).all():\n",
    "    print('Matrix is idempotent')\n",
    "else:\n",
    "     print('Matrix is not idempotent')"
   ]
  },
  {
   "cell_type": "markdown",
   "id": "eb855dad",
   "metadata": {},
   "source": [
    "Symmetric Matrix"
   ]
  },
  {
   "cell_type": "code",
   "execution_count": 11,
   "id": "ee40d6ae",
   "metadata": {},
   "outputs": [
    {
     "name": "stdout",
     "output_type": "stream",
     "text": [
      "Matrix is Symmetric\n"
     ]
    }
   ],
   "source": [
    "B=np.array([[1,1,3],[1,3,1],[3,1,1]])\n",
    "if (B==B.T).all():\n",
    "    print('Matrix is Symmetric')\n",
    "else:\n",
    "     print('Matrix is not Symmetric')"
   ]
  },
  {
   "cell_type": "markdown",
   "id": "7ec4cfa4",
   "metadata": {},
   "source": [
    "\n",
    "\n",
    "    Orthogonality of the Matrix\n",
    "\n"
   ]
  },
  {
   "cell_type": "code",
   "execution_count": 12,
   "id": "8cfcdbcf",
   "metadata": {},
   "outputs": [
    {
     "name": "stdout",
     "output_type": "stream",
     "text": [
      "Matrix is  not Orthogonal\n"
     ]
    }
   ],
   "source": [
    "C=np.array([[1,1,3],[1,3,1],[3,1,1]])\n",
    "if np.linalg.det(C)!=0:\n",
    "    if(np.linalg.inv(C)==C.T).all():\n",
    "        print('Matrix is Orthogonal')\n",
    "    else:\n",
    "         print('Matrix is  not Orthogonal')"
   ]
  },
  {
   "cell_type": "markdown",
   "id": "b90856b4",
   "metadata": {},
   "source": [
    "Skew Symmetric Matrix"
   ]
  },
  {
   "cell_type": "code",
   "execution_count": 13,
   "id": "9c561d97",
   "metadata": {},
   "outputs": [
    {
     "name": "stdout",
     "output_type": "stream",
     "text": [
      "Matrix is Skew Symmetric\n"
     ]
    }
   ],
   "source": [
    "D=np.array([[0,1,-2],[-1,0,3],[2,-3,0]])\n",
    "if (D.T==-D).all():\n",
    "    print('Matrix is Skew Symmetric')\n",
    "else:\n",
    "     print('Matrix is not Skew Symmetric')"
   ]
  },
  {
   "cell_type": "markdown",
   "id": "baca079c",
   "metadata": {},
   "source": [
    "\n",
    "\n",
    "    Definiteness\n",
    "\n"
   ]
  },
  {
   "cell_type": "code",
   "execution_count": 14,
   "id": "fbcf1336",
   "metadata": {},
   "outputs": [
    {
     "name": "stdout",
     "output_type": "stream",
     "text": [
      "Indefinite\n"
     ]
    }
   ],
   "source": [
    "A=np.array([[3,2,4],[2,0,2],[4,2,3]])\n",
    "Ev=np.linalg.eigvals(A)\n",
    "if np.all(Ev>0):\n",
    "    print('Positive Definite')\n",
    "elif np.all(Ev>=0):\n",
    "    print('Positive Semi Definite')  \n",
    "elif np.all(Ev<0):\n",
    "    print('Negative Definite')  \n",
    "elif np.all(Ev<=0):\n",
    "    print('Negative Semi Definite') \n",
    "else:\n",
    "    print('Indefinite')\n",
    "    "
   ]
  },
  {
   "cell_type": "markdown",
   "id": "4d3427eb",
   "metadata": {},
   "source": [
    "\n",
    "\n",
    "4.Generalized Inverse\n"
   ]
  },
  {
   "cell_type": "code",
   "execution_count": 15,
   "id": "474ea67a",
   "metadata": {},
   "outputs": [
    {
     "data": {
      "text/plain": [
       "array([[ 0.7079646 , -1.28318584,  0.        ],\n",
       "       [-1.32743363,  5.53097345,  0.        ],\n",
       "       [ 0.        ,  0.        ,  0.        ]])"
      ]
     },
     "execution_count": 15,
     "metadata": {},
     "output_type": "execute_result"
    }
   ],
   "source": [
    "A=np.array([[2.5,0.58,0.4],[0.6,0.32,1],[0.2,0.84,4]])\n",
    "A\n",
    "r=np.linalg.matrix_rank(A)\n",
    "r\n",
    "m,n=A.shape\n",
    "G=np.zeros([3,3])\n",
    "B=A[0:r,0:r]\n",
    "G2= G[0:r,0:r]\n",
    "H=np.linalg.inv(B)\n",
    "G[0:r,0:r]=H\n",
    "G"
   ]
  },
  {
   "cell_type": "markdown",
   "id": "25e930d6",
   "metadata": {},
   "source": [
    "5.Checking linear dependence/ independence of set of vectors"
   ]
  },
  {
   "cell_type": "code",
   "execution_count": 16,
   "id": "efd747cb",
   "metadata": {},
   "outputs": [
    {
     "name": "stdout",
     "output_type": "stream",
     "text": [
      "Does the equality w = 2v-u  holds? Answer: False\n"
     ]
    }
   ],
   "source": [
    "u = np.array([1, 0, 1])\n",
    "v = np.array([1, 1, 0])\n",
    "w = np.array([1, 2, 1])\n",
    "print('Does the equality w = 2v-u  holds? Answer:', np.all(w == 2*v-u ))\n",
    "#  Here vectors are independent."
   ]
  },
  {
   "cell_type": "markdown",
   "id": "8f1a20f0",
   "metadata": {},
   "source": [
    "6.Grams-Schmdit Orthogonalisation"
   ]
  },
  {
   "cell_type": "code",
   "execution_count": 17,
   "id": "05e55304",
   "metadata": {},
   "outputs": [
    {
     "name": "stdout",
     "output_type": "stream",
     "text": [
      "[[ 0.40824829  0.20739034 -0.88900089]\n",
      " [ 0.40824829  0.82956136  0.38100038]\n",
      " [ 0.81649658 -0.51847585  0.25400025]]\n"
     ]
    }
   ],
   "source": [
    "A = np.array([[1.0, 1.0, 0.0], [1.0, 3.0, 1.0], [2.0, -1.0, 1.0]])\n",
    "A\n",
    "def gram_schmidt(A):\n",
    "    \"\"\"Orthogonalize a set of vectors stored as the columns of matrix A.\"\"\"\n",
    "    n = A.shape[1]\n",
    "    for j in range(n):\n",
    "        for k in range(j):\n",
    "            A[:, j] -= np.dot(A[:, k], A[:, j]) * A[:, k]\n",
    "        A[:, j] = A[:, j] / np.linalg.norm(A[:, j])\n",
    "    return A\n",
    "\n",
    "if __name__ == '__main__':\n",
    "    print(gram_schmidt(A))"
   ]
  }
 ],
 "metadata": {
  "kernelspec": {
   "display_name": "Python 3 (ipykernel)",
   "language": "python",
   "name": "python3"
  },
  "language_info": {
   "codemirror_mode": {
    "name": "ipython",
    "version": 3
   },
   "file_extension": ".py",
   "mimetype": "text/x-python",
   "name": "python",
   "nbconvert_exporter": "python",
   "pygments_lexer": "ipython3",
   "version": "3.9.7"
  }
 },
 "nbformat": 4,
 "nbformat_minor": 5
}
